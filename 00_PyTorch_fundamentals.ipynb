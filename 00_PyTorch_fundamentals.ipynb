{
  "nbformat": 4,
  "nbformat_minor": 0,
  "metadata": {
    "colab": {
      "provenance": [],
      "mount_file_id": "1epoZovWS9pFu2H4zcR-wjQ1WCTgrP3g_",
      "authorship_tag": "ABX9TyMCtUcml2788ruzfJNlJIsX",
      "include_colab_link": true
    },
    "kernelspec": {
      "name": "python3",
      "display_name": "Python 3"
    },
    "language_info": {
      "name": "python"
    },
    "gpuClass": "standard",
    "accelerator": "GPU"
  },
  "cells": [
    {
      "cell_type": "markdown",
      "metadata": {
        "id": "view-in-github",
        "colab_type": "text"
      },
      "source": [
        "<a href=\"https://colab.research.google.com/github/NeonLabs146/PyTorch_081/blob/main/00_PyTorch_fundamentals.ipynb\" target=\"_parent\"><img src=\"https://colab.research.google.com/assets/colab-badge.svg\" alt=\"Open In Colab\"/></a>"
      ]
    },
    {
      "cell_type": "code",
      "source": [],
      "metadata": {
        "id": "0oz1ivruZZp3"
      },
      "execution_count": null,
      "outputs": []
    },
    {
      "cell_type": "code",
      "execution_count": null,
      "metadata": {
        "colab": {
          "base_uri": "https://localhost:8080/"
        },
        "id": "GG7SNX47A_0X",
        "outputId": "5a4eef07-0d90-4003-fede-1a5a9b3e0424"
      },
      "outputs": [
        {
          "output_type": "stream",
          "name": "stdout",
          "text": [
            "Hello I'm so excited\n",
            "Hello I'm so excited\n"
          ]
        }
      ],
      "source": [
        "print('Hello I''\\'m so excited')\n",
        "print(\"Hello I'm so excited\")"
      ]
    },
    {
      "cell_type": "markdown",
      "source": [
        "Pytorch is a library for Python programs that facilitates building deep learning projects. We like Python because is easy to read and understand. PyTorch emphasizes flexibility and allows deep learning models to be expressed in idiomatic Python."
      ],
      "metadata": {
        "id": "L69rMgDpy7di"
      }
    },
    {
      "cell_type": "markdown",
      "source": [
        "Why PyTorch?\n",
        "- NumPy-like arrays on GPU’s\n",
        "- Dynamic computational graphs\n",
        "- It’s Pythonic!"
      ],
      "metadata": {
        "id": "jJfvwrcUy6QY"
      }
    },
    {
      "cell_type": "markdown",
      "source": [
        "Tensors\n",
        "\n",
        "\n",
        "*   PyTorch tensors are similar to NumPy ndarrays with the option to operate on GPU.\n",
        "\n"
      ],
      "metadata": {
        "id": "pPrxeMtszUir"
      }
    },
    {
      "cell_type": "code",
      "source": [
        "!nvidia-smi"
      ],
      "metadata": {
        "colab": {
          "base_uri": "https://localhost:8080/"
        },
        "id": "WHPVuZTGCSis",
        "outputId": "8eec9765-5a14-43fc-8129-0ccfe29ace72"
      },
      "execution_count": null,
      "outputs": [
        {
          "output_type": "stream",
          "name": "stdout",
          "text": [
            "Thu Jan 19 12:44:48 2023       \n",
            "+-----------------------------------------------------------------------------+\n",
            "| NVIDIA-SMI 460.32.03    Driver Version: 460.32.03    CUDA Version: 11.2     |\n",
            "|-------------------------------+----------------------+----------------------+\n",
            "| GPU  Name        Persistence-M| Bus-Id        Disp.A | Volatile Uncorr. ECC |\n",
            "| Fan  Temp  Perf  Pwr:Usage/Cap|         Memory-Usage | GPU-Util  Compute M. |\n",
            "|                               |                      |               MIG M. |\n",
            "|===============================+======================+======================|\n",
            "|   0  Tesla T4            Off  | 00000000:00:04.0 Off |                    0 |\n",
            "| N/A   40C    P0    27W /  70W |      0MiB / 15109MiB |      0%      Default |\n",
            "|                               |                      |                  N/A |\n",
            "+-------------------------------+----------------------+----------------------+\n",
            "                                                                               \n",
            "+-----------------------------------------------------------------------------+\n",
            "| Processes:                                                                  |\n",
            "|  GPU   GI   CI        PID   Type   Process name                  GPU Memory |\n",
            "|        ID   ID                                                   Usage      |\n",
            "|=============================================================================|\n",
            "|  No running processes found                                                 |\n",
            "+-----------------------------------------------------------------------------+\n"
          ]
        }
      ]
    },
    {
      "cell_type": "code",
      "source": [
        "import torch\n",
        "import pandas as pd\n",
        "import numpy as np\n",
        "import matplotlib.pyplot as plt\n",
        "\n",
        "print(torch.__version__)"
      ],
      "metadata": {
        "colab": {
          "base_uri": "https://localhost:8080/"
        },
        "id": "5kJEdM1_C9gd",
        "outputId": "72e70ca1-1e22-4cd2-fa6c-f5738b88b9c8"
      },
      "execution_count": null,
      "outputs": [
        {
          "output_type": "stream",
          "name": "stdout",
          "text": [
            "1.13.1+cu116\n"
          ]
        }
      ]
    },
    {
      "cell_type": "markdown",
      "source": [
        "**Creating tensors**"
      ],
      "metadata": {
        "id": "Ops-sM6gNdGM"
      }
    },
    {
      "cell_type": "code",
      "source": [
        "# Scalar\n",
        "scalar = torch.tensor(7)\n",
        "scalar"
      ],
      "metadata": {
        "colab": {
          "base_uri": "https://localhost:8080/"
        },
        "id": "V-mBI8YxDLnd",
        "outputId": "5db1743a-419c-42a3-91c3-e75ecdb6172b"
      },
      "execution_count": null,
      "outputs": [
        {
          "output_type": "execute_result",
          "data": {
            "text/plain": [
              "tensor(7)"
            ]
          },
          "metadata": {},
          "execution_count": 3
        }
      ]
    },
    {
      "cell_type": "code",
      "source": [
        "scalar.ndim"
      ],
      "metadata": {
        "colab": {
          "base_uri": "https://localhost:8080/"
        },
        "id": "DWqO_AcsPkg9",
        "outputId": "4f21f0f9-95e9-41b8-8b3c-900552ccee29"
      },
      "execution_count": null,
      "outputs": [
        {
          "output_type": "execute_result",
          "data": {
            "text/plain": [
              "0"
            ]
          },
          "metadata": {},
          "execution_count": 4
        }
      ]
    },
    {
      "cell_type": "code",
      "source": [
        "# Get the Python number within a tensor (only works with one-element tensors)\n",
        "scalar.item()"
      ],
      "metadata": {
        "colab": {
          "base_uri": "https://localhost:8080/"
        },
        "id": "5Z3RZfP2PwtO",
        "outputId": "240b9ed2-8db0-4d57-ba18-2c9dd099dfa2"
      },
      "execution_count": null,
      "outputs": [
        {
          "output_type": "execute_result",
          "data": {
            "text/plain": [
              "7"
            ]
          },
          "metadata": {},
          "execution_count": 5
        }
      ]
    },
    {
      "cell_type": "code",
      "source": [
        "# Vector\n",
        "vector = torch.tensor([7, 7])\n",
        "vector"
      ],
      "metadata": {
        "colab": {
          "base_uri": "https://localhost:8080/"
        },
        "id": "QtJ4NhiSP-9Y",
        "outputId": "072aa2ac-424a-456d-f461-5ac417f0a414"
      },
      "execution_count": null,
      "outputs": [
        {
          "output_type": "execute_result",
          "data": {
            "text/plain": [
              "tensor([7, 7])"
            ]
          },
          "metadata": {},
          "execution_count": 6
        }
      ]
    },
    {
      "cell_type": "code",
      "source": [
        "vector.ndim\n"
      ],
      "metadata": {
        "colab": {
          "base_uri": "https://localhost:8080/"
        },
        "id": "EAsUShNaQD9p",
        "outputId": "5c8cda8b-fb11-41c2-ed75-4b1f19c27abb"
      },
      "execution_count": null,
      "outputs": [
        {
          "output_type": "execute_result",
          "data": {
            "text/plain": [
              "1"
            ]
          },
          "metadata": {},
          "execution_count": 7
        }
      ]
    },
    {
      "cell_type": "code",
      "source": [
        "#Matrix\n",
        "M=torch.tensor([[7,8],[9,6]])\n",
        "M"
      ],
      "metadata": {
        "colab": {
          "base_uri": "https://localhost:8080/"
        },
        "id": "PResyCSVQPjC",
        "outputId": "cfb7922f-3f91-43f0-8e3d-01de1ace0c1c"
      },
      "execution_count": null,
      "outputs": [
        {
          "output_type": "execute_result",
          "data": {
            "text/plain": [
              "tensor([[7, 8],\n",
              "        [9, 6]])"
            ]
          },
          "metadata": {},
          "execution_count": 8
        }
      ]
    },
    {
      "cell_type": "code",
      "source": [
        "M.ndim"
      ],
      "metadata": {
        "colab": {
          "base_uri": "https://localhost:8080/"
        },
        "id": "H0j7efDYQkZ4",
        "outputId": "3cbc6fe2-35b5-46bb-fbb5-1a52895408fe"
      },
      "execution_count": null,
      "outputs": [
        {
          "output_type": "execute_result",
          "data": {
            "text/plain": [
              "2"
            ]
          },
          "metadata": {},
          "execution_count": 9
        }
      ]
    },
    {
      "cell_type": "code",
      "source": [
        "ones=np.ones((2,3))\n",
        "ones"
      ],
      "metadata": {
        "colab": {
          "base_uri": "https://localhost:8080/"
        },
        "id": "i-rSiROvVflY",
        "outputId": "fb0917d1-7abc-48a8-e0b4-6d4fb1642797"
      },
      "execution_count": null,
      "outputs": [
        {
          "output_type": "execute_result",
          "data": {
            "text/plain": [
              "array([[1., 1., 1.],\n",
              "       [1., 1., 1.]])"
            ]
          },
          "metadata": {},
          "execution_count": 14
        }
      ]
    },
    {
      "cell_type": "code",
      "source": [
        "ones=torch.ones(size=(2,3))\n",
        "ones"
      ],
      "metadata": {
        "colab": {
          "base_uri": "https://localhost:8080/"
        },
        "id": "wD2sSBRjWaif",
        "outputId": "cd80465b-27af-4699-975e-c02a72d10240"
      },
      "execution_count": null,
      "outputs": [
        {
          "output_type": "execute_result",
          "data": {
            "text/plain": [
              "tensor([[1., 1., 1.],\n",
              "        [1., 1., 1.]])"
            ]
          },
          "metadata": {},
          "execution_count": 15
        }
      ]
    },
    {
      "cell_type": "code",
      "source": [
        "import random\n",
        "x=random.randint(0,100)\n",
        "print(x)"
      ],
      "metadata": {
        "colab": {
          "base_uri": "https://localhost:8080/"
        },
        "id": "1ty5jwYkWvu9",
        "outputId": "0914866e-7d9e-433b-9db6-536cb7703553"
      },
      "execution_count": null,
      "outputs": [
        {
          "output_type": "stream",
          "name": "stdout",
          "text": [
            "82\n"
          ]
        }
      ]
    },
    {
      "cell_type": "code",
      "source": [
        "array=np.array([1,2,3,4])\n",
        "print(array+10)\n",
        "y=np.multiply(array,2)\n",
        "print(y)\n"
      ],
      "metadata": {
        "colab": {
          "base_uri": "https://localhost:8080/"
        },
        "id": "-i42m5e5XW62",
        "outputId": "bdbc7633-cdad-4978-b128-9b267b16cdcf"
      },
      "execution_count": null,
      "outputs": [
        {
          "output_type": "stream",
          "name": "stdout",
          "text": [
            "[11 12 13 14]\n",
            "[2 4 6 8]\n"
          ]
        }
      ]
    },
    {
      "cell_type": "code",
      "source": [
        "# Create a tensor of values and add a number to it\n",
        "tensor = torch.tensor([1, 2, 3])\n",
        "y=tensor + 10\n",
        "print(y)\n",
        "x=torch.multiply(tensor,2)\n",
        "print(x)"
      ],
      "metadata": {
        "colab": {
          "base_uri": "https://localhost:8080/"
        },
        "id": "wO9vihfNYQTu",
        "outputId": "0265e4c0-5b1e-48f2-9bb8-7d9c8c8cfda5"
      },
      "execution_count": null,
      "outputs": [
        {
          "output_type": "stream",
          "name": "stdout",
          "text": [
            "tensor([11, 12, 13])\n",
            "tensor([2, 4, 6])\n"
          ]
        }
      ]
    },
    {
      "cell_type": "markdown",
      "source": [
        "![image.png](data:image/png;base64,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)"
      ],
      "metadata": {
        "id": "Q4pnSJRp0KYY"
      }
    },
    {
      "cell_type": "markdown",
      "source": [
        "**Switching between CPU and GPU**"
      ],
      "metadata": {
        "id": "8c72Jwtw0Lkf"
      }
    },
    {
      "cell_type": "code",
      "source": [
        "import torch\n",
        "cpu=torch.device(\"cpu\")\n",
        "gpu=torch.device(\"cuda:0\") # GPU 0\n",
        "# Create tensor with CPU\n",
        "x=torch.ones(3,3, device=cpu)\n",
        "print(\"CPU:\",x.device)\n",
        "x=torch.ones(3,3, device=gpu)\n",
        "print(\"GPU:\",x.device)\n",
        "x=torch.ones(3,3).cuda(0)\n",
        "print(\"CPU to GPU:\",x.device)\n",
        "x=torch.ones(3,3, device=gpu).cpu()\n",
        "print(\"GPU to CPU:\",x.device)"
      ],
      "metadata": {
        "colab": {
          "base_uri": "https://localhost:8080/"
        },
        "id": "5tU8uVcL0fM_",
        "outputId": "9e3a8f11-805a-4067-8243-300ba1be9f3d"
      },
      "execution_count": null,
      "outputs": [
        {
          "output_type": "stream",
          "name": "stdout",
          "text": [
            "CPU: cpu\n",
            "GPU: cuda:0\n",
            "CPU to GPU: cuda:0\n",
            "GPU to CPU: cpu\n"
          ]
        }
      ]
    },
    {
      "cell_type": "markdown",
      "source": [
        "Compare time between CPU and GPU"
      ],
      "metadata": {
        "id": "mwUlgWXq1Fkc"
      }
    },
    {
      "cell_type": "code",
      "source": [
        "#Time in CPU\n",
        "import time\n",
        "x=torch.rand(1000,1000)\n",
        "y=torch.rand(1000,1000)\n",
        "t = time.time()\n",
        "z=x@y\n",
        "t = time.time()-t\n",
        "print(t)"
      ],
      "metadata": {
        "colab": {
          "base_uri": "https://localhost:8080/"
        },
        "id": "gd8R2hCK0gh6",
        "outputId": "73da5a2c-a504-4e2a-d98c-4e8043ddebcb"
      },
      "execution_count": null,
      "outputs": [
        {
          "output_type": "stream",
          "name": "stdout",
          "text": [
            "0.027329683303833008\n"
          ]
        }
      ]
    },
    {
      "cell_type": "code",
      "source": [
        "#Time in GPU\n",
        "xc=x.cuda(0)\n",
        "yc=y.cuda(0)\n",
        "t = time.time()\n",
        "z=xc@yc\n",
        "t = time.time()-t\n",
        "print(t)"
      ],
      "metadata": {
        "colab": {
          "base_uri": "https://localhost:8080/"
        },
        "id": "y0kBlhn21WTd",
        "outputId": "45fabf77-c076-458d-a4b9-4c55839b9ccb"
      },
      "execution_count": null,
      "outputs": [
        {
          "output_type": "stream",
          "name": "stdout",
          "text": [
            "0.0003185272216796875\n"
          ]
        }
      ]
    },
    {
      "cell_type": "code",
      "source": [
        "import sklearn.datasets as datasets\n",
        "import matplotlib.pyplot as plt\n",
        "dat, lbs = datasets.make_circles(n_samples=1000, shuffle=True, noise=0.05, random_state=True, factor=0.7)\n",
        "\n",
        "plt.scatter(dat[:,0], dat[:,1], c=lbs)"
      ],
      "metadata": {
        "colab": {
          "base_uri": "https://localhost:8080/",
          "height": 282
        },
        "id": "TsH4YKau49JM",
        "outputId": "5b85f361-0f83-4b72-8002-4912d285df9a"
      },
      "execution_count": null,
      "outputs": [
        {
          "output_type": "execute_result",
          "data": {
            "text/plain": [
              "<matplotlib.collections.PathCollection at 0x7f109ec27fa0>"
            ]
          },
          "metadata": {},
          "execution_count": 18
        },
        {
          "output_type": "display_data",
          "data": {
            "text/plain": [
              "<Figure size 432x288 with 1 Axes>"
            ],
            "image/png": "[encoded data removed]"
          },
          "metadata": {
            "needs_background": "light"
          }
        }
      ]
    },
    {
      "cell_type": "code",
      "source": [
        "import torch\n",
        "import numpy as np\n",
        "\n",
        "# load the dataset\n",
        "dataset = np.loadtxt('/content/drive/MyDrive/Colab Notebooks/PyTorch/pima-indians-diabetes.csv', delimiter=',')\n",
        "X = dataset[:,0:8]\n",
        "y = dataset[:,8]\n",
        "X = torch.tensor(X, dtype=torch.float32)\n",
        "y = torch.tensor(y, dtype=torch.float32).reshape(-1, 1)"
      ],
      "metadata": {
        "id": "xmj9u4RIxMVC"
      },
      "execution_count": null,
      "outputs": []
    },
    {
      "cell_type": "code",
      "source": [
        "# split the dataset into training and test sets\n",
        "Xtrain = X[:700]\n",
        "ytrain = y[:700]\n",
        "Xtest = X[700:]\n",
        "ytest = y[700:]\n"
      ],
      "metadata": {
        "id": "iCTjL0w43RDd"
      },
      "execution_count": null,
      "outputs": []
    },
    {
      "cell_type": "code",
      "source": [
        "import torch.nn as nn\n",
        "import torch.optim as optim"
      ],
      "metadata": {
        "id": "mAjZC_7D3dau"
      },
      "execution_count": null,
      "outputs": []
    },
    {
      "cell_type": "code",
      "source": [
        "model = nn.Sequential(\n",
        "nn.Linear(8, 12),\n",
        "nn.ReLU(),\n",
        "nn.Linear(12, 8),\n",
        "nn.ReLU(),\n",
        "nn.Linear(8, 1),\n",
        "nn.Sigmoid()\n",
        ")\n",
        "print(model)\n",
        "# loss function and optimizer\n",
        "loss_fn = nn.BCELoss() # binary cross entropy\n",
        "optimizer = optim.Adam(model.parameters(), lr=0.001)\n"
      ],
      "metadata": {
        "colab": {
          "base_uri": "https://localhost:8080/"
        },
        "id": "6RUuQvrB3fAE",
        "outputId": "88c8f10f-5394-4bbd-9255-dc523a3512d2"
      },
      "execution_count": null,
      "outputs": [
        {
          "output_type": "stream",
          "name": "stdout",
          "text": [
            "Sequential(\n",
            "  (0): Linear(in_features=8, out_features=12, bias=True)\n",
            "  (1): ReLU()\n",
            "  (2): Linear(in_features=12, out_features=8, bias=True)\n",
            "  (3): ReLU()\n",
            "  (4): Linear(in_features=8, out_features=1, bias=True)\n",
            "  (5): Sigmoid()\n",
            ")\n"
          ]
        }
      ]
    },
    {
      "cell_type": "code",
      "source": [
        "n_epochs = 50 # number of epochs to run\n",
        "batch_size = 10 # size of each batch\n",
        "batches_per_epoch = len(Xtrain) // batch_size\n",
        "for epoch in range(n_epochs):\n",
        "  for i in range(batches_per_epoch):\n",
        "    start = i * batch_size\n",
        "# take a batch\n",
        "    Xbatch = Xtrain[start:start+batch_size]\n",
        "    ybatch = ytrain[start:start+batch_size]\n",
        "    # forward pass\n",
        "    y_pred = model(Xbatch)\n",
        "    loss = loss_fn(y_pred, ybatch)\n",
        "    # backward pass\n",
        "    optimizer.zero_grad()\n",
        "    loss.backward()\n",
        "    # update weights\n",
        "    optimizer.step()"
      ],
      "metadata": {
        "id": "1ORcgo5Z3qfw"
      },
      "execution_count": null,
      "outputs": []
    },
    {
      "cell_type": "code",
      "source": [
        "import torch\n",
        "\n",
        "x= torch.arange(12,dtype=torch.float32)\n",
        "print(x)\n"
      ],
      "metadata": {
        "colab": {
          "base_uri": "https://localhost:8080/"
        },
        "id": "m_I7q2RGk1P4",
        "outputId": "7e8789bb-a16d-4c6f-c9a6-1033abcab458"
      },
      "execution_count": null,
      "outputs": [
        {
          "output_type": "stream",
          "name": "stdout",
          "text": [
            "tensor([ 0.,  1.,  2.,  3.,  4.,  5.,  6.,  7.,  8.,  9., 10., 11.])\n"
          ]
        }
      ]
    },
    {
      "cell_type": "code",
      "source": [
        "#x.numel()\n",
        "len(x)"
      ],
      "metadata": {
        "colab": {
          "base_uri": "https://localhost:8080/"
        },
        "id": "88XeZZHble7z",
        "outputId": "fcd7f93e-5584-41fb-c0bd-e7bb6969ba86"
      },
      "execution_count": null,
      "outputs": [
        {
          "output_type": "execute_result",
          "data": {
            "text/plain": [
              "12"
            ]
          },
          "metadata": {},
          "execution_count": 7
        }
      ]
    },
    {
      "cell_type": "code",
      "source": [
        "x.shape"
      ],
      "metadata": {
        "colab": {
          "base_uri": "https://localhost:8080/"
        },
        "id": "Ii1kiB9Blqp5",
        "outputId": "5d9f8997-7b32-4d84-ad29-1b688ad8cb5c"
      },
      "execution_count": null,
      "outputs": [
        {
          "output_type": "execute_result",
          "data": {
            "text/plain": [
              "torch.Size([12])"
            ]
          },
          "metadata": {},
          "execution_count": 9
        }
      ]
    },
    {
      "cell_type": "code",
      "source": [
        "X=x.reshape(3,4)\n",
        "X"
      ],
      "metadata": {
        "colab": {
          "base_uri": "https://localhost:8080/"
        },
        "id": "TKqiLHf0l6IF",
        "outputId": "468213ca-06ad-49f4-abf1-4f200d9009e7"
      },
      "execution_count": null,
      "outputs": [
        {
          "output_type": "execute_result",
          "data": {
            "text/plain": [
              "tensor([[ 0.,  1.,  2.,  3.],\n",
              "        [ 4.,  5.,  6.,  7.],\n",
              "        [ 8.,  9., 10., 11.]])"
            ]
          },
          "metadata": {},
          "execution_count": 11
        }
      ]
    },
    {
      "cell_type": "code",
      "source": [
        "Y=x.reshape(-1,4)\n",
        "Y"
      ],
      "metadata": {
        "colab": {
          "base_uri": "https://localhost:8080/"
        },
        "id": "LqdXI7qvmV27",
        "outputId": "71db880b-a428-490f-d0e8-0fafbeb987ff"
      },
      "execution_count": null,
      "outputs": [
        {
          "output_type": "execute_result",
          "data": {
            "text/plain": [
              "tensor([[ 0.,  1.,  2.,  3.],\n",
              "        [ 4.,  5.,  6.,  7.],\n",
              "        [ 8.,  9., 10., 11.]])"
            ]
          },
          "metadata": {},
          "execution_count": 12
        }
      ]
    },
    {
      "cell_type": "code",
      "source": [
        "torch.zeros(2,3,4)\n"
      ],
      "metadata": {
        "colab": {
          "base_uri": "https://localhost:8080/"
        },
        "id": "lvZMXy0Vmmdr",
        "outputId": "a33814ec-edc2-486c-e860-106dff316b79"
      },
      "execution_count": null,
      "outputs": [
        {
          "output_type": "execute_result",
          "data": {
            "text/plain": [
              "tensor([[[0., 0., 0., 0.],\n",
              "         [0., 0., 0., 0.],\n",
              "         [0., 0., 0., 0.]],\n",
              "\n",
              "        [[0., 0., 0., 0.],\n",
              "         [0., 0., 0., 0.],\n",
              "         [0., 0., 0., 0.]]])"
            ]
          },
          "metadata": {},
          "execution_count": 13
        }
      ]
    },
    {
      "cell_type": "code",
      "source": [
        "torch.ones(2,3,4)"
      ],
      "metadata": {
        "colab": {
          "base_uri": "https://localhost:8080/"
        },
        "id": "_xLss7M_mvu9",
        "outputId": "b09b5d2c-dfff-4a6b-ad76-e06001d07401"
      },
      "execution_count": null,
      "outputs": [
        {
          "output_type": "execute_result",
          "data": {
            "text/plain": [
              "tensor([[[1., 1., 1., 1.],\n",
              "         [1., 1., 1., 1.],\n",
              "         [1., 1., 1., 1.]],\n",
              "\n",
              "        [[1., 1., 1., 1.],\n",
              "         [1., 1., 1., 1.],\n",
              "         [1., 1., 1., 1.]]])"
            ]
          },
          "metadata": {},
          "execution_count": 14
        }
      ]
    },
    {
      "cell_type": "code",
      "source": [
        "torch.randn(3,4)"
      ],
      "metadata": {
        "colab": {
          "base_uri": "https://localhost:8080/"
        },
        "id": "AqHSZKmemzVR",
        "outputId": "96f2a996-8917-4155-b1cc-c7d820edeee1"
      },
      "execution_count": null,
      "outputs": [
        {
          "output_type": "execute_result",
          "data": {
            "text/plain": [
              "tensor([[-0.3892,  0.0561, -0.2672, -1.6679],\n",
              "        [-0.2385, -0.5411,  0.8716, -1.3972],\n",
              "        [-0.5005,  0.8302,  0.5553,  0.3536]])"
            ]
          },
          "metadata": {},
          "execution_count": 17
        }
      ]
    },
    {
      "cell_type": "code",
      "source": [
        "torch.tensor([[1,2,4,3],[2,1,4,5],[5,4,3,2]])"
      ],
      "metadata": {
        "colab": {
          "base_uri": "https://localhost:8080/"
        },
        "id": "Z8ShCj_0nKiM",
        "outputId": "a178ea57-1c2c-4cb1-9a77-47209acd87c7"
      },
      "execution_count": null,
      "outputs": [
        {
          "output_type": "execute_result",
          "data": {
            "text/plain": [
              "tensor([[1, 2, 4, 3],\n",
              "        [2, 1, 4, 5],\n",
              "        [5, 4, 3, 2]])"
            ]
          },
          "metadata": {},
          "execution_count": 18
        }
      ]
    },
    {
      "cell_type": "code",
      "source": [
        "x[-1]"
      ],
      "metadata": {
        "colab": {
          "base_uri": "https://localhost:8080/"
        },
        "id": "reqYKoYpn3LU",
        "outputId": "bf695879-3270-482f-9b2c-a2928feaeb80"
      },
      "execution_count": null,
      "outputs": [
        {
          "output_type": "execute_result",
          "data": {
            "text/plain": [
              "tensor(11.)"
            ]
          },
          "metadata": {},
          "execution_count": 19
        }
      ]
    },
    {
      "cell_type": "code",
      "source": [
        "X[-1]"
      ],
      "metadata": {
        "colab": {
          "base_uri": "https://localhost:8080/"
        },
        "id": "m10XZSYCoD2C",
        "outputId": "6b67c2a4-f56c-415c-f9f7-1a5e6c1ecdc2"
      },
      "execution_count": null,
      "outputs": [
        {
          "output_type": "execute_result",
          "data": {
            "text/plain": [
              "tensor([ 8.,  9., 10., 11.])"
            ]
          },
          "metadata": {},
          "execution_count": 20
        }
      ]
    },
    {
      "cell_type": "code",
      "source": [
        "X[1:3]"
      ],
      "metadata": {
        "colab": {
          "base_uri": "https://localhost:8080/"
        },
        "id": "OEa3wRgRoGXS",
        "outputId": "bb821c8c-60b9-4505-f16f-6cc05bbcc75e"
      },
      "execution_count": null,
      "outputs": [
        {
          "output_type": "execute_result",
          "data": {
            "text/plain": [
              "tensor([[ 4.,  5.,  6.,  7.],\n",
              "        [ 8.,  9., 10., 11.]])"
            ]
          },
          "metadata": {},
          "execution_count": 23
        }
      ]
    },
    {
      "cell_type": "code",
      "source": [
        "X[2,2]"
      ],
      "metadata": {
        "colab": {
          "base_uri": "https://localhost:8080/"
        },
        "id": "8YoCiFdsoY5I",
        "outputId": "709cefe0-155e-470a-c08c-d9d35ff4baec"
      },
      "execution_count": null,
      "outputs": [
        {
          "output_type": "execute_result",
          "data": {
            "text/plain": [
              "tensor(10.)"
            ]
          },
          "metadata": {},
          "execution_count": 26
        }
      ]
    },
    {
      "cell_type": "code",
      "source": [
        "X[:2,:]=15\n",
        "print(X)"
      ],
      "metadata": {
        "colab": {
          "base_uri": "https://localhost:8080/"
        },
        "id": "wOfzMFN0ozb2",
        "outputId": "50e5aa86-3e8e-4b58-fdc4-713f2d09d0d5"
      },
      "execution_count": null,
      "outputs": [
        {
          "output_type": "stream",
          "name": "stdout",
          "text": [
            "tensor([[15., 15., 15., 15.],\n",
            "        [15., 15., 15., 15.],\n",
            "        [ 8.,  9., 10., 11.]])\n"
          ]
        }
      ]
    },
    {
      "cell_type": "markdown",
      "source": [
        "###**Oprations**"
      ],
      "metadata": {
        "id": "ApO70fYkp031"
      }
    },
    {
      "cell_type": "code",
      "source": [
        "torch.exp(X)"
      ],
      "metadata": {
        "colab": {
          "base_uri": "https://localhost:8080/"
        },
        "id": "gB9qXTzWp37Q",
        "outputId": "416c7fe1-79f1-41af-b878-d6b499598ca8"
      },
      "execution_count": null,
      "outputs": [
        {
          "output_type": "execute_result",
          "data": {
            "text/plain": [
              "tensor([[3.2690e+06, 3.2690e+06, 3.2690e+06, 3.2690e+06],\n",
              "        [3.2690e+06, 3.2690e+06, 3.2690e+06, 3.2690e+06],\n",
              "        [2.9810e+03, 8.1031e+03, 2.2026e+04, 5.9874e+04]])"
            ]
          },
          "metadata": {},
          "execution_count": 31
        }
      ]
    },
    {
      "cell_type": "markdown",
      "source": [
        "##**Data Preprocessing**\n",
        "Reading the dataset\n"
      ],
      "metadata": {
        "id": "NAzD-3cEqpPj"
      }
    },
    {
      "cell_type": "code",
      "source": [
        "import os\n",
        "\n",
        "os.makedirs(os.path.join('..', 'data'), exist_ok=True)\n",
        "data_file = os.path.join('..', 'data', 'house_tiny.csv')\n",
        "with open(data_file, 'w') as f:\n",
        "    f.write('''NumRooms,RoofType,Price\n",
        "3,NA,127500\n",
        "2,NA,106000\n",
        "4,Slate,178100\n",
        "NA,Slate,140000''')"
      ],
      "metadata": {
        "id": "ICsxy2XMqymg"
      },
      "execution_count": null,
      "outputs": []
    },
    {
      "cell_type": "code",
      "source": [
        "import pandas as pd\n",
        "\n",
        "data = pd.read_csv(data_file)\n",
        "print(data)"
      ],
      "metadata": {
        "colab": {
          "base_uri": "https://localhost:8080/"
        },
        "id": "zolJVO78rw9L",
        "outputId": "8c4268fb-21fd-420d-cc92-ad57f9428f00"
      },
      "execution_count": null,
      "outputs": [
        {
          "output_type": "stream",
          "name": "stdout",
          "text": [
            "   NumRooms RoofType   Price\n",
            "0       3.0      NaN  127500\n",
            "1       2.0      NaN  106000\n",
            "2       4.0    Slate  178100\n",
            "3       NaN    Slate  140000\n"
          ]
        }
      ]
    },
    {
      "cell_type": "markdown",
      "source": [
        "Data preparation"
      ],
      "metadata": {
        "id": "jZZhbvy-sGcy"
      }
    },
    {
      "cell_type": "code",
      "source": [
        "inputs, targets = data.iloc[:,0:2], data.iloc[:,2]\n",
        "inputs = pd.get_dummies(inputs, dummy_na=True)\n",
        "print(inputs)"
      ],
      "metadata": {
        "colab": {
          "base_uri": "https://localhost:8080/"
        },
        "id": "b6_faHRUsJuN",
        "outputId": "7d557410-b565-467a-8b7b-40ecca0c7619"
      },
      "execution_count": null,
      "outputs": [
        {
          "output_type": "stream",
          "name": "stdout",
          "text": [
            "   NumRooms  RoofType_Slate  RoofType_nan\n",
            "0       3.0               0             1\n",
            "1       2.0               0             1\n",
            "2       4.0               1             0\n",
            "3       NaN               1             0\n"
          ]
        }
      ]
    },
    {
      "cell_type": "markdown",
      "source": [
        "For missing numerical values, one common heuristic is to replace the NaN entries with the mean value of the corresponding column."
      ],
      "metadata": {
        "id": "oFZUfpcuvVLw"
      }
    },
    {
      "cell_type": "code",
      "source": [
        "inputs = inputs.fillna(inputs.mean())\n",
        "print(inputs)"
      ],
      "metadata": {
        "colab": {
          "base_uri": "https://localhost:8080/"
        },
        "id": "t4F8uoz1vMkM",
        "outputId": "234ffcb0-3098-4aab-e62d-f9a537acb0d6"
      },
      "execution_count": null,
      "outputs": [
        {
          "output_type": "stream",
          "name": "stdout",
          "text": [
            "   NumRooms  RoofType_Slate  RoofType_nan\n",
            "0       3.0               0             1\n",
            "1       2.0               0             1\n",
            "2       4.0               1             0\n",
            "3       3.0               1             0\n"
          ]
        }
      ]
    },
    {
      "cell_type": "markdown",
      "source": [
        "###**Conversion to the Tensor Format**"
      ],
      "metadata": {
        "id": "iC_ltRhivoeF"
      }
    },
    {
      "cell_type": "code",
      "source": [
        "import torch\n",
        "\n",
        "X, y = torch.tensor(inputs.values), torch.tensor(targets.values)\n",
        "X, y"
      ],
      "metadata": {
        "colab": {
          "base_uri": "https://localhost:8080/"
        },
        "id": "0cir-5oQvYua",
        "outputId": "66505d52-c1c4-45cd-bc52-5b99f6618c37"
      },
      "execution_count": null,
      "outputs": [
        {
          "output_type": "execute_result",
          "data": {
            "text/plain": [
              "(tensor([[3., 0., 1.],\n",
              "         [2., 0., 1.],\n",
              "         [4., 1., 0.],\n",
              "         [3., 1., 0.]], dtype=torch.float64),\n",
              " tensor([127500, 106000, 178100, 140000]))"
            ]
          },
          "metadata": {},
          "execution_count": 10
        }
      ]
    },
    {
      "cell_type": "markdown",
      "source": [
        "**Exersise**"
      ],
      "metadata": {
        "id": "bY3TR3tzy_id"
      }
    },
    {
      "cell_type": "code",
      "source": [
        "import os\n",
        "import torch\n",
        "import pandas as pd"
      ],
      "metadata": {
        "id": "QfGWZsCBzD0L"
      },
      "execution_count": null,
      "outputs": []
    },
    {
      "cell_type": "code",
      "source": [
        "data = pd.read_csv('/content/drive/MyDrive/Colab Notebooks/PyTorch/abalone/abalone.data',delimiter=',')\n",
        "print(data)"
      ],
      "metadata": {
        "colab": {
          "base_uri": "https://localhost:8080/"
        },
        "id": "b_CjhOfj4V68",
        "outputId": "9000d308-fc92-440f-da19-ce6372c601e4"
      },
      "execution_count": null,
      "outputs": [
        {
          "output_type": "stream",
          "name": "stdout",
          "text": [
            "      M  0.455  0.365  0.095   0.514  0.2245   0.101    0.15  15\n",
            "0     M  0.350  0.265  0.090  0.2255  0.0995  0.0485  0.0700   7\n",
            "1     F  0.530  0.420  0.135  0.6770  0.2565  0.1415  0.2100   9\n",
            "2     M  0.440  0.365  0.125  0.5160  0.2155  0.1140  0.1550  10\n",
            "3     I  0.330  0.255  0.080  0.2050  0.0895  0.0395  0.0550   7\n",
            "4     I  0.425  0.300  0.095  0.3515  0.1410  0.0775  0.1200   8\n",
            "...  ..    ...    ...    ...     ...     ...     ...     ...  ..\n",
            "4171  F  0.565  0.450  0.165  0.8870  0.3700  0.2390  0.2490  11\n",
            "4172  M  0.590  0.440  0.135  0.9660  0.4390  0.2145  0.2605  10\n",
            "4173  M  0.600  0.475  0.205  1.1760  0.5255  0.2875  0.3080   9\n",
            "4174  F  0.625  0.485  0.150  1.0945  0.5310  0.2610  0.2960  10\n",
            "4175  M  0.710  0.555  0.195  1.9485  0.9455  0.3765  0.4950  12\n",
            "\n",
            "[4176 rows x 9 columns]\n"
          ]
        }
      ]
    },
    {
      "cell_type": "code",
      "source": [
        "inputs, targets = data.iloc[:,0:2], data.iloc[:,2]\n",
        "inputs = pd.get_dummies(inputs, dummy_na=True)\n",
        "print(inputs)"
      ],
      "metadata": {
        "colab": {
          "base_uri": "https://localhost:8080/"
        },
        "id": "g2SNsUZR5CRW",
        "outputId": "fb4f8478-5079-4da8-ec71-203939bf9fad"
      },
      "execution_count": null,
      "outputs": [
        {
          "output_type": "stream",
          "name": "stdout",
          "text": [
            "      0.455  M_F  M_I  M_M  M_nan\n",
            "0     0.350    0    0    1      0\n",
            "1     0.530    1    0    0      0\n",
            "2     0.440    0    0    1      0\n",
            "3     0.330    0    1    0      0\n",
            "4     0.425    0    1    0      0\n",
            "...     ...  ...  ...  ...    ...\n",
            "4171  0.565    1    0    0      0\n",
            "4172  0.590    0    0    1      0\n",
            "4173  0.600    0    0    1      0\n",
            "4174  0.625    1    0    0      0\n",
            "4175  0.710    0    0    1      0\n",
            "\n",
            "[4176 rows x 5 columns]\n"
          ]
        }
      ]
    },
    {
      "cell_type": "code",
      "source": [
        "inputs = inputs.fillna(inputs.mean())\n",
        "print(inputs)"
      ],
      "metadata": {
        "colab": {
          "base_uri": "https://localhost:8080/"
        },
        "id": "1lQTHQ3Z8nb1",
        "outputId": "22e9a9d0-5bf6-47df-b0f2-0f52adc631d4"
      },
      "execution_count": null,
      "outputs": [
        {
          "output_type": "stream",
          "name": "stdout",
          "text": [
            "      0.455  M_F  M_I  M_M  M_nan\n",
            "0     0.350    0    0    1      0\n",
            "1     0.530    1    0    0      0\n",
            "2     0.440    0    0    1      0\n",
            "3     0.330    0    1    0      0\n",
            "4     0.425    0    1    0      0\n",
            "...     ...  ...  ...  ...    ...\n",
            "4171  0.565    1    0    0      0\n",
            "4172  0.590    0    0    1      0\n",
            "4173  0.600    0    0    1      0\n",
            "4174  0.625    1    0    0      0\n",
            "4175  0.710    0    0    1      0\n",
            "\n",
            "[4176 rows x 5 columns]\n"
          ]
        }
      ]
    },
    {
      "cell_type": "code",
      "source": [
        "import torch\n",
        "\n",
        "X, y = torch.tensor(inputs.values), torch.tensor(targets.values)\n",
        "X, y"
      ],
      "metadata": {
        "id": "IL_HROYH8w6H",
        "outputId": "12611e4b-97d2-4e00-fa68-896e18763a36",
        "colab": {
          "base_uri": "https://localhost:8080/"
        }
      },
      "execution_count": null,
      "outputs": [
        {
          "output_type": "execute_result",
          "data": {
            "text/plain": [
              "(tensor([[0.3500, 0.0000, 0.0000, 1.0000, 0.0000],\n",
              "         [0.5300, 1.0000, 0.0000, 0.0000, 0.0000],\n",
              "         [0.4400, 0.0000, 0.0000, 1.0000, 0.0000],\n",
              "         ...,\n",
              "         [0.6000, 0.0000, 0.0000, 1.0000, 0.0000],\n",
              "         [0.6250, 1.0000, 0.0000, 0.0000, 0.0000],\n",
              "         [0.7100, 0.0000, 0.0000, 1.0000, 0.0000]], dtype=torch.float64),\n",
              " tensor([0.2650, 0.4200, 0.3650,  ..., 0.4750, 0.4850, 0.5550],\n",
              "        dtype=torch.float64))"
            ]
          },
          "metadata": {},
          "execution_count": 11
        }
      ]
    },
    {
      "cell_type": "markdown",
      "source": [
        "#**Linear Algebra**"
      ],
      "metadata": {
        "id": "FL4conLpMUoq"
      }
    },
    {
      "cell_type": "markdown",
      "source": [
        "Formally manuplating number once a time - Scalar"
      ],
      "metadata": {
        "id": "s56HYaAYM1fd"
      }
    },
    {
      "cell_type": "markdown",
      "source": [
        "For example, the temperature in Kathmandu is a balmy 76\n",
        " degrees Fahrenheit. If you wanted to convert the temperature to Celsius you would evaluate the expression c=5/9(f-32), setting\n",
        " f to 76. In this equation, the values 5,9, and 76 are scalars. The variables f and c represent unknown scalars.\n",
        " Scalars are represented uisng small letters."
      ],
      "metadata": {
        "id": "gpIHrmn8NJek"
      }
    },
    {
      "cell_type": "code",
      "source": [
        "import torch\n",
        "\n",
        "x = torch.tensor(3.0)\n",
        "y = torch.tensor(5.0)\n",
        "x+y, x*y, y/x\n"
      ],
      "metadata": {
        "id": "nFjGx7tv1Vmn",
        "colab": {
          "base_uri": "https://localhost:8080/"
        },
        "outputId": "d1d54009-6b4c-4fb0-ebbf-a773a9be74ee"
      },
      "execution_count": null,
      "outputs": [
        {
          "output_type": "execute_result",
          "data": {
            "text/plain": [
              "(tensor(8.), tensor(15.), tensor(1.6667))"
            ]
          },
          "metadata": {},
          "execution_count": 3
        }
      ]
    },
    {
      "cell_type": "markdown",
      "source": [
        "#**Vector**\n"
      ],
      "metadata": {
        "id": "GfKBRWGWO93x"
      }
    },
    {
      "cell_type": "markdown",
      "source": [
        "Fixed length array of scalars-vectors"
      ],
      "metadata": {
        "id": "XG1KW4_2PBtQ"
      }
    },
    {
      "cell_type": "markdown",
      "source": [
        "We denote vectors by bold lowercase letters, (e.g.,**x**, **y**, and **z**)."
      ],
      "metadata": {
        "id": "qtyasIU7PIN0"
      }
    },
    {
      "cell_type": "code",
      "source": [
        "x = torch.arange(5)\n",
        "x"
      ],
      "metadata": {
        "colab": {
          "base_uri": "https://localhost:8080/"
        },
        "id": "KfYAvyh5O25Q",
        "outputId": "06afa948-8947-447c-8765-7d09eecc3f8a"
      },
      "execution_count": null,
      "outputs": [
        {
          "output_type": "execute_result",
          "data": {
            "text/plain": [
              "tensor([0, 1, 2, 3, 4])"
            ]
          },
          "metadata": {},
          "execution_count": 4
        }
      ]
    },
    {
      "cell_type": "code",
      "source": [
        "y=list(range(5))\n",
        "y"
      ],
      "metadata": {
        "colab": {
          "base_uri": "https://localhost:8080/"
        },
        "id": "5njDo8pvQj24",
        "outputId": "7868ad98-d4cc-44ec-8b9f-58b4c6c6617b"
      },
      "execution_count": null,
      "outputs": [
        {
          "output_type": "execute_result",
          "data": {
            "text/plain": [
              "[0, 1, 2, 3, 4]"
            ]
          },
          "metadata": {},
          "execution_count": 16
        }
      ]
    },
    {
      "cell_type": "code",
      "source": [],
      "metadata": {
        "id": "8n8bZMLayd_W"
      },
      "execution_count": null,
      "outputs": []
    }
  ]
}